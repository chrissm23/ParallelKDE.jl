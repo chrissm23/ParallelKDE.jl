{
 "cells": [
  {
   "cell_type": "markdown",
   "id": "64e7dd9c-714d-4785-b42e-f92bcfbb7fb0",
   "metadata": {},
   "source": [
    "# Timing benchmark"
   ]
  },
  {
   "cell_type": "code",
   "execution_count": null,
   "id": "779c1cb2-d66b-4770-b742-ca7374cd0355",
   "metadata": {},
   "outputs": [],
   "source": [
    "import numpy as np\n",
    "import pandas as pd\n",
    "import matplotlib\n",
    "import matplotlib.pyplot as plt\n",
    "\n",
    "from sklearn import KernelDensity\n",
    "from scipy.stats import gaussian_kde\n"
   ]
  }
 ],
 "metadata": {
  "kernelspec": {
   "display_name": "Python [conda env:py312_parallelkde]",
   "language": "python",
   "name": "conda-env-py312_parallelkde-py"
  },
  "language_info": {
   "codemirror_mode": {
    "name": "ipython",
    "version": 3
   },
   "file_extension": ".py",
   "mimetype": "text/x-python",
   "name": "python",
   "nbconvert_exporter": "python",
   "pygments_lexer": "ipython3",
   "version": "3.12.11"
  }
 },
 "nbformat": 4,
 "nbformat_minor": 5
}
