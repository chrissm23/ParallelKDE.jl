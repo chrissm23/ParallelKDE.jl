{
 "cells": [
  {
   "cell_type": "markdown",
   "id": "151859f8-0635-464a-bd63-c52f8bc9eded",
   "metadata": {},
   "source": [
    "# Time benchmark KDE"
   ]
  },
  {
   "cell_type": "code",
   "execution_count": 1,
   "id": "150b8ca7-dcc1-423a-a2f1-8b3707943c7b",
   "metadata": {},
   "outputs": [
    {
     "name": "stdout",
     "output_type": "stream",
     "text": [
      "Detected IPython. Loading juliacall extension. See https://juliapy.github.io/PythonCall.jl/stable/compat/#IPython\n"
     ]
    }
   ],
   "source": [
    "from abc import ABC, abstractmethod\n",
    "from dataclasses import dataclass\n",
    "\n",
    "import numpy as np\n",
    "import pandas as pd\n",
    "\n",
    "import time\n",
    "\n",
    "from scipy.stats import norm\n",
    "from scipy.stats import multivariate_normal\n",
    "\n",
    "from scipy.stats import gaussian_kde\n",
    "from sklearn.neighbors import KernelDensity\n",
    "from statsmodels.nonparametric.kde import KDEUnivariate\n",
    "from statsmodels.nonparametric.kernel_density import KDEMultivariate\n",
    "from KDEpy.FFTKDE import FFTKDE\n",
    "\n",
    "import parallelkdepy as pkde\n",
    "\n",
    "from tqdm.notebook import trange, tqdm"
   ]
  },
  {
   "cell_type": "code",
   "execution_count": 2,
   "id": "dc036f79-b68c-4f16-a69b-a62f08246e9a",
   "metadata": {},
   "outputs": [],
   "source": [
    "def get_distro(n_dims):\n",
    "    if n_dims == 1:\n",
    "        return norm(loc=0.0, scale=1.0)\n",
    "    elif n_dims == 2:\n",
    "        return multivariate_normal(mean=np.full(2, 0.0), cov=np.eye(2))\n",
    "    else:\n",
    "        raise ValueError(\"Only 1D and 2D distro allowed\")"
   ]
  },
  {
   "cell_type": "code",
   "execution_count": 3,
   "id": "14fedd31-9752-4f3f-83f8-48478d821232",
   "metadata": {},
   "outputs": [],
   "source": [
    "def sample_distro(distro, n_samples):\n",
    "    return distro.rvs(size=n_samples)"
   ]
  },
  {
   "cell_type": "code",
   "execution_count": 4,
   "id": "067d21ab-3763-4b98-a539-24c469f4d388",
   "metadata": {},
   "outputs": [],
   "source": [
    "def create_grid(n_points, dim, lb=-8, hb=8, device=\"cpu\"):\n",
    "    grid = pkde.Grid(dim*[(lb, hb, n_points)], device=device)\n",
    "\n",
    "    return grid"
   ]
  },
  {
   "cell_type": "code",
   "execution_count": 5,
   "id": "0a35b62b-b07a-4072-8549-28c55786dd07",
   "metadata": {},
   "outputs": [],
   "source": [
    "@dataclass\n",
    "class EstimatorInfo:\n",
    "    package: str\n",
    "    method: str\n",
    "    dim: int\n",
    "    device: str = \"cpu\""
   ]
  },
  {
   "cell_type": "code",
   "execution_count": 6,
   "id": "ccee3d34-1fa7-45e6-a1a0-2a4c8b6c8f22",
   "metadata": {},
   "outputs": [],
   "source": [
    "class DensityEstimator(ABC):\n",
    "    def __init__(self, info: EstimatorInfo):\n",
    "        self._info = info\n",
    "        self._is_fit = False\n",
    "\n",
    "    @property\n",
    "    def info(self):\n",
    "        return self._info\n",
    "\n",
    "    @abstractmethod\n",
    "    def fit(self, x: np.ndarray):\n",
    "        ...\n",
    "\n",
    "    @abstractmethod\n",
    "    def evaluate(self, grid) -> np.ndarray:\n",
    "        ...\n",
    "\n",
    "    def name(self) -> str:\n",
    "        return f\"{self._info.package}:{self._info.method}:{self._info.device}:{self._info.dim}D\""
   ]
  },
  {
   "cell_type": "code",
   "execution_count": 7,
   "id": "7fb6d974-da12-4161-9c8a-9c041d21966b",
   "metadata": {},
   "outputs": [],
   "source": [
    "class ScipyKDE(DensityEstimator):\n",
    "    def __init__(self, dim: int, bw_method: str):\n",
    "        super().__init__(EstimatorInfo(\"scipy\", bw_method, dim))\n",
    "\n",
    "    def fit(self, data: np.ndarray, **kwargs):\n",
    "        if data.ndim > 1:\n",
    "            assert data.shape[1] == self.info.dim\n",
    "        else:\n",
    "            assert self.info.dim == 1\n",
    "        self._data = data\n",
    "        self._kde = gaussian_kde(data.T, bw_method=self.info.method)\n",
    "        self._is_fit = True\n",
    "        \n",
    "        return self\n",
    "\n",
    "    def evaluate(self, grid: pkde.Grid) -> np.ndarray:\n",
    "        grid_mesh = grid.to_meshgrid()\n",
    "        if len(grid_mesh) > 1:\n",
    "            grid_points = np.vstack([x.ravel() for x in grid_mesh])\n",
    "        else:\n",
    "            grid_points = grid_mesh[0]\n",
    "            \n",
    "        density_estimated = self._kde(grid_points).reshape(grid.shape)\n",
    "\n",
    "        return density_estimated"
   ]
  },
  {
   "cell_type": "code",
   "execution_count": 8,
   "id": "07385e4f-441d-4626-92ab-786121c017a6",
   "metadata": {},
   "outputs": [],
   "source": [
    "class SklearnKDE(DensityEstimator):\n",
    "    def __init__(self, dim: int, bw_method: str):\n",
    "        super().__init__(EstimatorInfo(\"sklearn\", bw_method, dim))\n",
    "\n",
    "    def fit(self, data: np.ndarray):\n",
    "        if data.ndim > 1:\n",
    "            assert data.shape[1] == self.info.dim\n",
    "            self._data = data\n",
    "        else:\n",
    "            assert self.info.dim == 1\n",
    "            self._data = data[:, np.newaxis]\n",
    "        self._kde = KernelDensity(bandwidth=self.info.method).fit(self._data)\n",
    "        self._is_fit = True\n",
    "\n",
    "        return self\n",
    "\n",
    "    def evaluate(self, grid: pkde.Grid) -> np.ndarray:\n",
    "        grid_mesh = grid.to_meshgrid()\n",
    "        if len(grid_mesh) > 1:\n",
    "            grid_points = np.vstack([x.ravel() for x in grid_mesh])\n",
    "            grid_points = grid_points.T\n",
    "        else:\n",
    "            grid_points = grid_mesh[0]\n",
    "            grid_points = grid_points[:, np.newaxis]\n",
    "\n",
    "        density_estiated = np.exp(self._kde.score_samples(grid_points)).reshape(grid.shape)\n",
    "\n",
    "        return density_estiated"
   ]
  },
  {
   "cell_type": "code",
   "execution_count": 9,
   "id": "72fe399a-efcf-4a2d-b312-91263cc54d2b",
   "metadata": {},
   "outputs": [],
   "source": [
    "class StatsmodelsKDE1D(DensityEstimator):\n",
    "    def __init__(self, bw_method: str):\n",
    "        super().__init__(EstimatorInfo(\"statsmodels\", bw_method, 1))\n",
    "\n",
    "    def fit(self, data: np.ndarray):\n",
    "        if data.ndim > 1:\n",
    "            assert data.shape[1] == self.info.dim\n",
    "        else:\n",
    "            assert self.info.dim == 1\n",
    "        self._data = data\n",
    "        self._kde = KDEUnivariate(data)\n",
    "        self._is_fit = True\n",
    "\n",
    "        return self\n",
    "\n",
    "    def evaluate(self, grid: pkde.Grid) -> np.ndarray:\n",
    "        grid_size = grid.shape[0]\n",
    "        self._kde.fit(bw=self.info.method, fft=True, gridsize=grid_size)\n",
    "\n",
    "        grid_points = grid.to_meshgrid()[0]\n",
    "        density_estimated = self._kde.evaluate(grid_points)\n",
    "\n",
    "        return density_estimated"
   ]
  },
  {
   "cell_type": "code",
   "execution_count": 10,
   "id": "7ebb6ca1-3142-4b25-b709-8754d8525c69",
   "metadata": {},
   "outputs": [],
   "source": [
    "class StatsmodelsKDE2D(DensityEstimator):\n",
    "    def __init__(self, bw_method: str):\n",
    "        super().__init__(EstimatorInfo(\"statsmodels\", bw_method, 2))\n",
    "\n",
    "    def fit(self, data: np.ndarray):\n",
    "        if data.ndim > 1:\n",
    "            assert data.shape[1] == self.info.dim\n",
    "        else:\n",
    "            assert self.info.dim == 1\n",
    "        self._data = data\n",
    "        self._kde = KDEMultivariate(data=data, var_type=\"cc\", bw=self.info.method)\n",
    "        self._is_fit = True\n",
    "\n",
    "    def evaluate(self, grid: pkde.Grid) -> np.ndarray:\n",
    "        grid_mesh = grid.to_meshgrid()\n",
    "        grid_points = np.vstack([x.ravel() for x in grid_mesh])\n",
    "        \n",
    "        density_estimated = self._kde.pdf(grid_points).reshape(grid.shape)\n",
    "\n",
    "        return density_estimated"
   ]
  },
  {
   "cell_type": "code",
   "execution_count": 11,
   "id": "c6a1f619-daa0-4759-be8e-2530a84ef576",
   "metadata": {},
   "outputs": [],
   "source": [
    "class KDEpyKDE(DensityEstimator):\n",
    "    def __init__(self, dim: int, bw_method: str):\n",
    "        super().__init__(EstimatorInfo(\"kdepy\", bw_method, dim))\n",
    "\n",
    "    def fit(self, data: np.ndarray):\n",
    "        if data.ndim > 1:\n",
    "            assert data.shape[1] == self.info.dim\n",
    "        else:\n",
    "            assert self.info.dim == 1\n",
    "        self._data = data\n",
    "        self._kde = FFTKDE(bw=self.info.method).fit(data)\n",
    "        self._is_fit = True\n",
    "\n",
    "        return self\n",
    "\n",
    "    def evaluate(self, grid: pkde.Grid) -> np.ndarray:\n",
    "        grid_mesh = grid.to_meshgrid()\n",
    "        if len(grid_mesh) > 1:\n",
    "            grid_points = np.vstack([x.ravel() for x in grid_mesh])\n",
    "        else:\n",
    "            grid_points = grid_mesh[0]\n",
    "\n",
    "        density_estimated = self._kde.evaluate(grid_points).reshape(grid.shape)\n",
    "\n",
    "        return density_estimated"
   ]
  },
  {
   "cell_type": "code",
   "execution_count": 12,
   "id": "44088c4a-916f-4298-a211-160a764836ca",
   "metadata": {},
   "outputs": [],
   "source": [
    "class ParallelKDE(DensityEstimator):\n",
    "    def __init__(self, dim:int, bw_method: str, device: str):\n",
    "        super().__init__(EstimatorInfo(\"parallelkdepy\", bw_method, dim, device))\n",
    "\n",
    "    def fit(self, data: np.ndarray):\n",
    "        if data.ndim > 1:\n",
    "            assert data.shape[1] == self.info.dim\n",
    "            self._data = data\n",
    "        else:\n",
    "            assert self.info.dim == 1\n",
    "            self._data = data[:, np.newaxis]\n",
    "        self._is_fit = True\n",
    "\n",
    "        return self\n",
    "\n",
    "    def evaluate(self, grid: pkde.Grid) -> np.ndarray:\n",
    "        self._kde = pkde.DensityEstimation(self._data, grid=grid, device=self.info.device)\n",
    "        self._kde.estimate_density(self.info.method)\n",
    "        density_estimated = self._kde.get_density()\n",
    "\n",
    "        return density_estimated"
   ]
  },
  {
   "cell_type": "code",
   "execution_count": 13,
   "id": "59239cff-d926-400b-8bbf-5372fd10f26c",
   "metadata": {},
   "outputs": [],
   "source": [
    "@dataclass\n",
    "class GridSpec:\n",
    "    dim: int\n",
    "    n_points: int"
   ]
  },
  {
   "cell_type": "code",
   "execution_count": 14,
   "id": "d6a68ea4-cb20-46d6-be1f-cf57c2aa820c",
   "metadata": {},
   "outputs": [],
   "source": [
    "@dataclass\n",
    "class DataSpec:\n",
    "    dim: int\n",
    "    n_samples: int"
   ]
  },
  {
   "cell_type": "code",
   "execution_count": 15,
   "id": "36e057aa-9172-4c6e-bcf7-409ab117b027",
   "metadata": {},
   "outputs": [],
   "source": [
    "@dataclass\n",
    "class RunSpec:\n",
    "    n_warmup: int = 1\n",
    "    n_runs: int = 10"
   ]
  },
  {
   "cell_type": "code",
   "execution_count": 16,
   "id": "bb16b83b-c6d3-40e8-a378-50aa848f20fc",
   "metadata": {},
   "outputs": [],
   "source": [
    "def time_block(fn):\n",
    "    t0 = time.perf_counter()\n",
    "    out = fn()\n",
    "    t1 = time.perf_counter()\n",
    "\n",
    "    return out, (t1 - t0)"
   ]
  },
  {
   "cell_type": "code",
   "execution_count": 17,
   "id": "253fe942-f532-4d51-81b8-1ec906bf74ae",
   "metadata": {},
   "outputs": [],
   "source": [
    "def available_estimators():\n",
    "    ests = []\n",
    "    \n",
    "    # Scipy estimators\n",
    "    for n in [1, 2]:\n",
    "        for m in [\"scott\"]:\n",
    "            ests.append(ScipyKDE(n, m))\n",
    "            \n",
    "    # Sklearn estimators\n",
    "    for n in [1, 2]:\n",
    "        for m in [\"scott\"]:\n",
    "            ests.append(SklearnKDE(n, m))\n",
    "\n",
    "    # Statsmodels estimators\n",
    "    for n in [1, 2]:\n",
    "        if n == 1:\n",
    "            ms = [\"scott\"]\n",
    "            for m in ms:\n",
    "                ests.append(StatsmodelsKDE1D(m))\n",
    "        else:\n",
    "            ms = [\"normal_reference\"] # we can add cross-validation later because it's really slow\n",
    "            for m in ms:\n",
    "                ests.append(StatsmodelsKDE2D(m))\n",
    "\n",
    "    # KDEpy estimators\n",
    "    for n in [1]: # KDEpy only has bandwidth detection for 1D\n",
    "        for m in [\"scott\", \"ISJ\"]:\n",
    "            ests.append(KDEpyKDE(n, m))\n",
    "\n",
    "    # ParallelKDE estimators\n",
    "    for n in [1, 2]:\n",
    "        for m in [\"parallelEstimator\", \"rotEstimator\"]:\n",
    "            for d in [\"cpu\", \"cuda\"]:\n",
    "                ests.append(ParallelKDE(n, m, d))\n",
    "\n",
    "    return ests"
   ]
  },
  {
   "cell_type": "code",
   "execution_count": 18,
   "id": "c69702da-c78f-4aa9-8423-1b8065746998",
   "metadata": {},
   "outputs": [],
   "source": [
    "def run_benchmark(estimators, datasets, grids, run_spec: RunSpec = None, verbose=False):\n",
    "    if run_spec is None:\n",
    "        run_spec = RunSpec()\n",
    "\n",
    "    rows = []\n",
    "    for gs in tqdm(grids, desc=\"Iterating grids...\"):\n",
    "        for ds in tqdm(datasets, desc=\"Iterating sample sizes...\"):\n",
    "            if ds.dim != gs.dim:\n",
    "                continue\n",
    "\n",
    "            dim = ds.dim\n",
    "\n",
    "            distro = get_distro(dim)\n",
    "            samples = sample_distro(distro, ds.n_samples)\n",
    "\n",
    "            for est in estimators:\n",
    "                if est.info.dim != dim:\n",
    "                    continue\n",
    "                if verbose:\n",
    "                    print(f\"Running {est.name()} with: dimensions: {dim}; grid size: {gs.n_points}; sample size:{ds.n_samples}\")\n",
    "                \n",
    "                grid = create_grid(gs.n_points, dim, device=est.info.device)\n",
    "                \n",
    "                # Warmups (check if estimations work correctly and compile if needed)\n",
    "                failed = False\n",
    "                for _ in range(run_spec.n_warmup):\n",
    "                    try:\n",
    "                        est.fit(samples)\n",
    "                        _ = est.evaluate(grid)\n",
    "                    except Exception as e:\n",
    "                        print(f\"ERROR: {est.name()}\")\n",
    "                        rows.append({\n",
    "                            \"package\": est.info.package,\n",
    "                            \"method\": est.info.method,\n",
    "                            \"device\": est.info.device,\n",
    "                            \"dim\": est.info.dim,\n",
    "                            \"sample_size\": ds.n_samples,\n",
    "                            \"grid_points\": gs.n_points,\n",
    "                            \"ok\": False,\n",
    "                            \"error\": str(e),\n",
    "                        })\n",
    "                        failed = True\n",
    "                        break\n",
    "\n",
    "                if failed:\n",
    "                    continue\n",
    "\n",
    "                # Timed runs\n",
    "                for _ in range(run_spec.n_runs):\n",
    "                    _, fit_t = time_block(lambda: est.fit(samples))\n",
    "                    _, eval_t = time_block(lambda: est.evaluate(grid))\n",
    "                    rows.append({\n",
    "                        \"package\": est.info.package,\n",
    "                        \"method\": est.info.method,\n",
    "                        \"device\": est.info.device,\n",
    "                        \"dim\": est.info.dim,\n",
    "                        \"sample_size\": ds.n_samples,\n",
    "                        \"grid_points\": gs.n_points,\n",
    "                        \"fit_time_s\": fit_t,\n",
    "                        \"eval_time_s\": eval_t,\n",
    "                        \"total_time_s\": fit_t + eval_t,\n",
    "                        \"ok\": True,\n",
    "                    })\n",
    "\n",
    "    df = pd.DataFrame(rows)\n",
    "    prefer = [\"package\", \"method\", \"device\", \"dim\", \"sample_size\", \"grid_points\", \"fit_time_s\", \"eval_time_s\", \"total_time_s\", \"ok\", \"error\"]\n",
    "    cols = [c for c in prefer if c in df.columns] + [c for c in df.columns if c not in prefer]\n",
    "\n",
    "    return df[cols]"
   ]
  },
  {
   "cell_type": "markdown",
   "id": "15b4fa5f-e91f-4ca8-836c-3495851275bd",
   "metadata": {
    "jp-MarkdownHeadingCollapsed": true
   },
   "source": [
    "## Quick check"
   ]
  },
  {
   "cell_type": "code",
   "execution_count": 19,
   "id": "1ac5b839-d04b-4abc-a466-30a98f72f0e0",
   "metadata": {},
   "outputs": [],
   "source": [
    "datasets = [\n",
    "    DataSpec(1, 1000),\n",
    "    DataSpec(2, 10000),\n",
    "]\n",
    "grids = [\n",
    "    GridSpec(1, 500),\n",
    "    GridSpec(2, 125),\n",
    "]\n",
    "ests = available_estimators()"
   ]
  },
  {
   "cell_type": "code",
   "execution_count": 20,
   "id": "4ef5317f-5310-431f-b9fd-a669205241ec",
   "metadata": {},
   "outputs": [
    {
     "data": {
      "application/vnd.jupyter.widget-view+json": {
       "model_id": "426688c345434e86a2f1e0d7e56ec09c",
       "version_major": 2,
       "version_minor": 0
      },
      "text/plain": [
       "Iterating grids...:   0%|          | 0/2 [00:00<?, ?it/s]"
      ]
     },
     "metadata": {},
     "output_type": "display_data"
    },
    {
     "data": {
      "application/vnd.jupyter.widget-view+json": {
       "model_id": "17d02a0435804becbf478e39b73d00bf",
       "version_major": 2,
       "version_minor": 0
      },
      "text/plain": [
       "Iterating sample sizes...:   0%|          | 0/2 [00:00<?, ?it/s]"
      ]
     },
     "metadata": {},
     "output_type": "display_data"
    },
    {
     "name": "stdout",
     "output_type": "stream",
     "text": [
      "Running scipy:scott:cpu:1D with: dimensions: 1; grid size: 500; sample size:1000\n",
      "Running sklearn:scott:cpu:1D with: dimensions: 1; grid size: 500; sample size:1000\n",
      "Running statsmodels:scott:cpu:1D with: dimensions: 1; grid size: 500; sample size:1000\n",
      "Running kdepy:scott:cpu:1D with: dimensions: 1; grid size: 500; sample size:1000\n",
      "Running kdepy:ISJ:cpu:1D with: dimensions: 1; grid size: 500; sample size:1000\n",
      "Running parallelkdepy:parallelEstimator:cpu:1D with: dimensions: 1; grid size: 500; sample size:1000\n",
      "Running parallelkdepy:parallelEstimator:cuda:1D with: dimensions: 1; grid size: 500; sample size:1000\n",
      "Running parallelkdepy:rotEstimator:cpu:1D with: dimensions: 1; grid size: 500; sample size:1000\n",
      "Running parallelkdepy:rotEstimator:cuda:1D with: dimensions: 1; grid size: 500; sample size:1000\n"
     ]
    },
    {
     "data": {
      "application/vnd.jupyter.widget-view+json": {
       "model_id": "fc54e797c84744ffb220ed89ad009db0",
       "version_major": 2,
       "version_minor": 0
      },
      "text/plain": [
       "Iterating sample sizes...:   0%|          | 0/2 [00:00<?, ?it/s]"
      ]
     },
     "metadata": {},
     "output_type": "display_data"
    },
    {
     "name": "stdout",
     "output_type": "stream",
     "text": [
      "Running scipy:scott:cpu:2D with: dimensions: 2; grid size: 125; sample size:10000\n",
      "Running sklearn:scott:cpu:2D with: dimensions: 2; grid size: 125; sample size:10000\n",
      "Running statsmodels:normal_reference:cpu:2D with: dimensions: 2; grid size: 125; sample size:10000\n",
      "Running parallelkdepy:parallelEstimator:cpu:2D with: dimensions: 2; grid size: 125; sample size:10000\n",
      "Running parallelkdepy:parallelEstimator:cuda:2D with: dimensions: 2; grid size: 125; sample size:10000\n",
      "Running parallelkdepy:rotEstimator:cpu:2D with: dimensions: 2; grid size: 125; sample size:10000\n",
      "Running parallelkdepy:rotEstimator:cuda:2D with: dimensions: 2; grid size: 125; sample size:10000\n"
     ]
    }
   ],
   "source": [
    "results_quick = run_benchmark(ests, datasets, grids, verbose=True)"
   ]
  },
  {
   "cell_type": "code",
   "execution_count": 21,
   "id": "8c57a50c-6966-41ec-a60f-d9969d035fdd",
   "metadata": {},
   "outputs": [
    {
     "data": {
      "text/html": [
       "<div>\n",
       "<style scoped>\n",
       "    .dataframe tbody tr th:only-of-type {\n",
       "        vertical-align: middle;\n",
       "    }\n",
       "\n",
       "    .dataframe tbody tr th {\n",
       "        vertical-align: top;\n",
       "    }\n",
       "\n",
       "    .dataframe thead th {\n",
       "        text-align: right;\n",
       "    }\n",
       "</style>\n",
       "<table border=\"1\" class=\"dataframe\">\n",
       "  <thead>\n",
       "    <tr style=\"text-align: right;\">\n",
       "      <th></th>\n",
       "      <th>package</th>\n",
       "      <th>method</th>\n",
       "      <th>device</th>\n",
       "      <th>dim</th>\n",
       "      <th>sample_size</th>\n",
       "      <th>grid_points</th>\n",
       "      <th>fit_time_s</th>\n",
       "      <th>eval_time_s</th>\n",
       "      <th>total_time_s</th>\n",
       "      <th>ok</th>\n",
       "    </tr>\n",
       "  </thead>\n",
       "  <tbody>\n",
       "    <tr>\n",
       "      <th>0</th>\n",
       "      <td>scipy</td>\n",
       "      <td>scott</td>\n",
       "      <td>cpu</td>\n",
       "      <td>1</td>\n",
       "      <td>1000</td>\n",
       "      <td>500</td>\n",
       "      <td>0.000298</td>\n",
       "      <td>0.015955</td>\n",
       "      <td>0.016253</td>\n",
       "      <td>True</td>\n",
       "    </tr>\n",
       "    <tr>\n",
       "      <th>1</th>\n",
       "      <td>scipy</td>\n",
       "      <td>scott</td>\n",
       "      <td>cpu</td>\n",
       "      <td>1</td>\n",
       "      <td>1000</td>\n",
       "      <td>500</td>\n",
       "      <td>0.000296</td>\n",
       "      <td>0.015723</td>\n",
       "      <td>0.016019</td>\n",
       "      <td>True</td>\n",
       "    </tr>\n",
       "    <tr>\n",
       "      <th>2</th>\n",
       "      <td>scipy</td>\n",
       "      <td>scott</td>\n",
       "      <td>cpu</td>\n",
       "      <td>1</td>\n",
       "      <td>1000</td>\n",
       "      <td>500</td>\n",
       "      <td>0.000331</td>\n",
       "      <td>0.020616</td>\n",
       "      <td>0.020947</td>\n",
       "      <td>True</td>\n",
       "    </tr>\n",
       "    <tr>\n",
       "      <th>3</th>\n",
       "      <td>scipy</td>\n",
       "      <td>scott</td>\n",
       "      <td>cpu</td>\n",
       "      <td>1</td>\n",
       "      <td>1000</td>\n",
       "      <td>500</td>\n",
       "      <td>0.000347</td>\n",
       "      <td>0.016639</td>\n",
       "      <td>0.016986</td>\n",
       "      <td>True</td>\n",
       "    </tr>\n",
       "    <tr>\n",
       "      <th>4</th>\n",
       "      <td>scipy</td>\n",
       "      <td>scott</td>\n",
       "      <td>cpu</td>\n",
       "      <td>1</td>\n",
       "      <td>1000</td>\n",
       "      <td>500</td>\n",
       "      <td>0.000323</td>\n",
       "      <td>0.016437</td>\n",
       "      <td>0.016760</td>\n",
       "      <td>True</td>\n",
       "    </tr>\n",
       "    <tr>\n",
       "      <th>...</th>\n",
       "      <td>...</td>\n",
       "      <td>...</td>\n",
       "      <td>...</td>\n",
       "      <td>...</td>\n",
       "      <td>...</td>\n",
       "      <td>...</td>\n",
       "      <td>...</td>\n",
       "      <td>...</td>\n",
       "      <td>...</td>\n",
       "      <td>...</td>\n",
       "    </tr>\n",
       "    <tr>\n",
       "      <th>155</th>\n",
       "      <td>parallelkdepy</td>\n",
       "      <td>rotEstimator</td>\n",
       "      <td>cuda</td>\n",
       "      <td>2</td>\n",
       "      <td>10000</td>\n",
       "      <td>125</td>\n",
       "      <td>0.000002</td>\n",
       "      <td>0.007990</td>\n",
       "      <td>0.007991</td>\n",
       "      <td>True</td>\n",
       "    </tr>\n",
       "    <tr>\n",
       "      <th>156</th>\n",
       "      <td>parallelkdepy</td>\n",
       "      <td>rotEstimator</td>\n",
       "      <td>cuda</td>\n",
       "      <td>2</td>\n",
       "      <td>10000</td>\n",
       "      <td>125</td>\n",
       "      <td>0.000002</td>\n",
       "      <td>0.005595</td>\n",
       "      <td>0.005597</td>\n",
       "      <td>True</td>\n",
       "    </tr>\n",
       "    <tr>\n",
       "      <th>157</th>\n",
       "      <td>parallelkdepy</td>\n",
       "      <td>rotEstimator</td>\n",
       "      <td>cuda</td>\n",
       "      <td>2</td>\n",
       "      <td>10000</td>\n",
       "      <td>125</td>\n",
       "      <td>0.000002</td>\n",
       "      <td>0.005571</td>\n",
       "      <td>0.005573</td>\n",
       "      <td>True</td>\n",
       "    </tr>\n",
       "    <tr>\n",
       "      <th>158</th>\n",
       "      <td>parallelkdepy</td>\n",
       "      <td>rotEstimator</td>\n",
       "      <td>cuda</td>\n",
       "      <td>2</td>\n",
       "      <td>10000</td>\n",
       "      <td>125</td>\n",
       "      <td>0.000003</td>\n",
       "      <td>0.007418</td>\n",
       "      <td>0.007421</td>\n",
       "      <td>True</td>\n",
       "    </tr>\n",
       "    <tr>\n",
       "      <th>159</th>\n",
       "      <td>parallelkdepy</td>\n",
       "      <td>rotEstimator</td>\n",
       "      <td>cuda</td>\n",
       "      <td>2</td>\n",
       "      <td>10000</td>\n",
       "      <td>125</td>\n",
       "      <td>0.000002</td>\n",
       "      <td>0.005345</td>\n",
       "      <td>0.005347</td>\n",
       "      <td>True</td>\n",
       "    </tr>\n",
       "  </tbody>\n",
       "</table>\n",
       "<p>160 rows × 10 columns</p>\n",
       "</div>"
      ],
      "text/plain": [
       "           package        method device  dim  sample_size  grid_points  \\\n",
       "0            scipy         scott    cpu    1         1000          500   \n",
       "1            scipy         scott    cpu    1         1000          500   \n",
       "2            scipy         scott    cpu    1         1000          500   \n",
       "3            scipy         scott    cpu    1         1000          500   \n",
       "4            scipy         scott    cpu    1         1000          500   \n",
       "..             ...           ...    ...  ...          ...          ...   \n",
       "155  parallelkdepy  rotEstimator   cuda    2        10000          125   \n",
       "156  parallelkdepy  rotEstimator   cuda    2        10000          125   \n",
       "157  parallelkdepy  rotEstimator   cuda    2        10000          125   \n",
       "158  parallelkdepy  rotEstimator   cuda    2        10000          125   \n",
       "159  parallelkdepy  rotEstimator   cuda    2        10000          125   \n",
       "\n",
       "     fit_time_s  eval_time_s  total_time_s    ok  \n",
       "0      0.000298     0.015955      0.016253  True  \n",
       "1      0.000296     0.015723      0.016019  True  \n",
       "2      0.000331     0.020616      0.020947  True  \n",
       "3      0.000347     0.016639      0.016986  True  \n",
       "4      0.000323     0.016437      0.016760  True  \n",
       "..          ...          ...           ...   ...  \n",
       "155    0.000002     0.007990      0.007991  True  \n",
       "156    0.000002     0.005595      0.005597  True  \n",
       "157    0.000002     0.005571      0.005573  True  \n",
       "158    0.000003     0.007418      0.007421  True  \n",
       "159    0.000002     0.005345      0.005347  True  \n",
       "\n",
       "[160 rows x 10 columns]"
      ]
     },
     "execution_count": 21,
     "metadata": {},
     "output_type": "execute_result"
    }
   ],
   "source": [
    "results_quick"
   ]
  },
  {
   "cell_type": "markdown",
   "id": "974afb9b-527e-43a3-aaf2-6fab8d696600",
   "metadata": {},
   "source": [
    "## Benchmark"
   ]
  },
  {
   "cell_type": "code",
   "execution_count": 19,
   "id": "c767b51c-55fd-4218-af72-863752b2eee9",
   "metadata": {},
   "outputs": [],
   "source": [
    "specs_samples = (\n",
    "    [DataSpec(1, m) for m in (100, 1000, 10000, 100000)] + [DataSpec(2, m) for m in (1000, 10000, 100000, 1000000)], [GridSpec(1, 500), GridSpec(2, 100)]\n",
    ")\n",
    "specs_grids = (\n",
    "    [DataSpec(1, 10000), DataSpec(2, 100000)], [GridSpec(1, m) for m in (100, 500, 2500)] + [GridSpec(2, m) for m in (33, 100, 300)]\n",
    ")\n",
    "ests = available_estimators()"
   ]
  },
  {
   "cell_type": "markdown",
   "id": "28eead5d-1717-4353-b83e-bb44b5230d1b",
   "metadata": {},
   "source": [
    "### Samples benchmark"
   ]
  },
  {
   "cell_type": "code",
   "execution_count": null,
   "id": "4e705be3-27dc-4999-b09e-94e1ec126c5e",
   "metadata": {},
   "outputs": [
    {
     "data": {
      "application/vnd.jupyter.widget-view+json": {
       "model_id": "e4538f3af60441128fd3a8c9c1ae18f7",
       "version_major": 2,
       "version_minor": 0
      },
      "text/plain": [
       "Iterating grids...:   0%|          | 0/2 [00:00<?, ?it/s]"
      ]
     },
     "metadata": {},
     "output_type": "display_data"
    },
    {
     "data": {
      "application/vnd.jupyter.widget-view+json": {
       "model_id": "9890d9da9c884f0a8d0e5913cffeba2e",
       "version_major": 2,
       "version_minor": 0
      },
      "text/plain": [
       "Iterating sample sizes...:   0%|          | 0/8 [00:00<?, ?it/s]"
      ]
     },
     "metadata": {},
     "output_type": "display_data"
    },
    {
     "data": {
      "application/vnd.jupyter.widget-view+json": {
       "model_id": "32dee214bf04435b8147b7cddebe1e32",
       "version_major": 2,
       "version_minor": 0
      },
      "text/plain": [
       "Iterating sample sizes...:   0%|          | 0/8 [00:00<?, ?it/s]"
      ]
     },
     "metadata": {},
     "output_type": "display_data"
    }
   ],
   "source": [
    "results_samples = run_benchmark(ests, *specs_samples)"
   ]
  },
  {
   "cell_type": "code",
   "execution_count": null,
   "id": "73d25795-fcee-4742-9412-dab261c297cb",
   "metadata": {},
   "outputs": [],
   "source": [
    "results_samples.to_csv(\"benchmark_samples.csv\", index=False)"
   ]
  },
  {
   "cell_type": "markdown",
   "id": "d39e5787-e88b-4da1-86c3-b24b28fcb287",
   "metadata": {},
   "source": [
    "### Grids benchmark"
   ]
  },
  {
   "cell_type": "code",
   "execution_count": null,
   "id": "b1621505-5cca-4b42-af23-9f911fbb6ddf",
   "metadata": {},
   "outputs": [],
   "source": [
    "results_grids = run_benchmark(ests, *specs_grids)"
   ]
  },
  {
   "cell_type": "code",
   "execution_count": null,
   "id": "c78c5a25-2978-4b42-91ac-8929cf9d78f9",
   "metadata": {},
   "outputs": [],
   "source": [
    "results_grids.to_csv(\"benchmark_grids.csv\", index=False)"
   ]
  }
 ],
 "metadata": {
  "kernelspec": {
   "display_name": "Python [conda env:py312_parallelkde]",
   "language": "python",
   "name": "conda-env-py312_parallelkde-py"
  },
  "language_info": {
   "codemirror_mode": {
    "name": "ipython",
    "version": 3
   },
   "file_extension": ".py",
   "mimetype": "text/x-python",
   "name": "python",
   "nbconvert_exporter": "python",
   "pygments_lexer": "ipython3",
   "version": "3.12.11"
  }
 },
 "nbformat": 4,
 "nbformat_minor": 5
}
